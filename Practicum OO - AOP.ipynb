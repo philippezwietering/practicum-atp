{
 "cells": [
  {
   "cell_type": "markdown",
   "metadata": {},
   "source": [
    "# Practicum OO - AOP\n",
    "Dit bestand bevat de practicumopgaven voor de module OO&AOP van het vak Advanced Technical Programming (TCIT-VKATP-17). \n",
    "\n",
    "Een Jupyter Notebook bestaat uit cells met code of toelichting. Sommige code-cells hoeven enkel uitgevoerd te worden om functies beschikbaar te maken, anderen moet je zelf in vullen (opdrachten staan duidelijk met kopjes gemarkeerd, je moet dan zelf de delen met TODO invullen). Je kunt de code per cel uitvoeren door de cel te selecteren en \"run cell\" te kiezen. De cel direct hieronder laadt de nodige modules in. Als je code niet naar verwachting werkt kan het zijn dat je deze cell moet runnen, of een van de andere cels vóór de cel met error. Let erop dat als je de Jupyter-server afsluit en later verder gaat moet je deze cells opnieuw runnen."
   ]
  },
  {
   "cell_type": "code",
   "execution_count": 1,
   "metadata": {
    "collapsed": true
   },
   "outputs": [],
   "source": [
    "from unittest import *    \n",
    "import doctest\n",
    "import io\n",
    "import inspect\n",
    "from contextlib import redirect_stdout"
   ]
  },
  {
   "cell_type": "markdown",
   "metadata": {},
   "source": [
    "__Opdrachten die zijn gemarkeerd met _[PORTFOLIO]_ dienen te worden opgenomen in je portfolio voor de eindopgave__.\n",
    "\n",
    "Laat deze opdrachten door je docent aftekenen aan het einde van de les (of aan het begin van de volgende les)."
   ]
  },
  {
   "cell_type": "markdown",
   "metadata": {},
   "source": [
    "***\n",
    "## College 2: Reflectie en metaprogrammeren\n",
    "Deze opdrachten gaan over het college over reflectie en metaprogrammeren en dienen aan het einde van dat college te worden gemaakt.\n",
    "\n",
    "Maak ook de opdrachten in de reader!\n",
    "\n",
    "\n",
    "#### Opdracht 2.1 — OO in Python [Portfolio]\n",
    "Een Queue is gebaseerd op het FIFO-principe: First In First Out\n",
    "\n",
    "<img src=\"queue.png\" width=\"500px\">\n",
    "\n",
    "`enqueue` voegt een element achteraan toe.  \n",
    "`dequeue` haalt een element vooraan weg.\n",
    "\n",
    "De volgende klasse implementeert Queue:"
   ]
  },
  {
   "cell_type": "code",
   "execution_count": 2,
   "metadata": {
    "collapsed": true
   },
   "outputs": [],
   "source": [
    "class MyQueue(list):\n",
    "    def __init__(self, a=[]):\n",
    "        list.__init__(self, a)\n",
    "    \n",
    "    def dequeue(self):\n",
    "        return self.pop(0) # geen fout-afhandeling\n",
    "    \n",
    "    def enqueue(self, x):\n",
    "        self.append(x)"
   ]
  },
  {
   "cell_type": "markdown",
   "metadata": {},
   "source": [
    "Python heeft een aantal ingebouwde queue-klassen: Queue, LifeQueue, PriorityQueue, en deque.\n",
    "\n",
    "`deque` staat voor double-ended queue: aan beide kanten van de queue kan worden toegevoegd en verwijderd.\n",
    "\n",
    "Breidt de klasse `MyQueue` uit tot de klasse `MyDeQue`.\n",
    "\n",
    "De klasse heeft de volgende methoden:\n",
    "* `appendright(x)`: voeg `x` aan de rechterkant toe\n",
    "* `appendleft(x)`: voeg `x` aan de linkerkant toe\n",
    "* `popright()`: verwijder en retourneer het element dat helemaal rechts staat\n",
    "* `popleft()`: verwijder en retourneer het element dat helemaal links staat\n",
    "* `reverse()`: keer de elementen in de queue om\n",
    "* `rotateright(n)`: verschuif de elementen `n` posities naar rechts.\n",
    "  Als `n < 0`: verschuif de elementen (`-n`)  posities naar links.\n",
    "* `rotateleft(n)`: verschuif de elementen `n` posities naar links.\n",
    "  Als `n < 0`: verschuif de elementen (`-n`) posities naar rechts.\n",
    "  \n",
    "Maak zoveel mogelijk gebruik van de andere methoden en methoden uit de super-klassen. Zorg voor een goede fout-afhandeling.\n",
    "\n",
    "Denk er ook aan dat je voldoende tests schrijft om de functionaliteit zoals hierboven gegeven kan garanderen!"
   ]
  },
  {
   "cell_type": "code",
   "execution_count": 3,
   "metadata": {},
   "outputs": [
    {
     "name": "stdout",
     "output_type": "stream",
     "text": [
      "[1, -22, 17, 5469, 0]\n",
      "[]\n",
      "[1, -22, 17, 5469, 0, 5]\n",
      "[99, 1, -22, 17, 5469, 0, 5]\n",
      "[99, 1, -22, 17, 5469, 0]\n",
      "[1, -22, 17, 5469, 0]\n",
      "[]\n",
      "[0, 5469, 17, -22, 1]\n",
      "[0, 5469, 17, -22, 1]\n",
      "[-22, 1, 0, 5469, 17]\n",
      "[5469, 17, -22, 1, 0]\n",
      "[-22, 1, 0, 5469, 17]\n"
     ]
    }
   ],
   "source": [
    "class MyDeQue(MyQueue):    \n",
    "    def appendright(self, x=None):\n",
    "        if x is not None:\n",
    "            self.enqueue(x)\n",
    "        \n",
    "    def appendleft(self, x=None):\n",
    "        if x is not None:\n",
    "            self.insert(0, x)\n",
    "    \n",
    "    def popright(self):\n",
    "        if self:\n",
    "            self.pop(-1)\n",
    "    \n",
    "    def popleft(self):\n",
    "        if self:\n",
    "            self.dequeue()\n",
    "    \n",
    "    def reverse(self):\n",
    "        list.reverse(self)\n",
    "    \n",
    "    def rotateright(self, n=0):\n",
    "        if self:\n",
    "            while n > 0:\n",
    "                self.appendleft(self[-1])\n",
    "                self.popright()\n",
    "                n -= 1\n",
    "            while n < 0:\n",
    "                self.appendright(self[0])\n",
    "                self.popleft()\n",
    "                n += 1\n",
    "    \n",
    "    def rotateleft(self, n=0):\n",
    "        self.rotateright(-n)\n",
    "        \n",
    "eennieuwjonglijstje = MyDeQue([1, -22, 17, 5469, 0])\n",
    "print(eennieuwjonglijstje)\n",
    "\n",
    "eenleeglijstje = MyDeQue()\n",
    "print(eenleeglijstje)\n",
    "\n",
    "l = eennieuwjonglijstje\n",
    "l.appendright(5)\n",
    "print(l)\n",
    "l.appendleft(99)\n",
    "print(l)\n",
    "l.popright()\n",
    "print(l)\n",
    "l.popleft()\n",
    "print(l)\n",
    "\n",
    "eenleeglijstje.popright()\n",
    "eenleeglijstje.popleft()\n",
    "print(eenleeglijstje)\n",
    "\n",
    "l.reverse()\n",
    "print(l)\n",
    "l.rotateright()\n",
    "print(l)\n",
    "l.rotateright(2)\n",
    "print(l)\n",
    "l.rotateleft(-2)\n",
    "print(l)\n",
    "l.rotateleft(2)\n",
    "print(l)"
   ]
  },
  {
   "cell_type": "markdown",
   "metadata": {},
   "source": [
    "#### Opdracht 2.2 — `eval` en veiligheid [Portfolio]\n",
    "\n",
    "Raadpleeg de site https://www.programiz.com/python-programming/methods/built-in/eval\n",
    "\n",
    "Een eenvoudige interactieve expressie-evaluator is de volgende:"
   ]
  },
  {
   "cell_type": "code",
   "execution_count": 4,
   "metadata": {},
   "outputs": [
    {
     "name": "stdout",
     "output_type": "stream",
     "text": [
      "Type an expression: \n"
     ]
    },
    {
     "ename": "SyntaxError",
     "evalue": "unexpected EOF while parsing (<string>, line 0)",
     "output_type": "error",
     "traceback": [
      "Traceback \u001b[0;36m(most recent call last)\u001b[0m:\n",
      "  File \u001b[1;32m\"/usr/local/lib/python3.5/dist-packages/IPython/core/interactiveshell.py\"\u001b[0m, line \u001b[1;32m2862\u001b[0m, in \u001b[1;35mrun_code\u001b[0m\n    exec(code_obj, self.user_global_ns, self.user_ns)\n",
      "\u001b[0;36m  File \u001b[0;32m\"<ipython-input-4-f8d2f2ca8d17>\"\u001b[0;36m, line \u001b[0;32m3\u001b[0;36m, in \u001b[0;35m<module>\u001b[0;36m\u001b[0m\n\u001b[0;31m    print(\"Result:\", eval(r))\u001b[0m\n",
      "\u001b[0;36m  File \u001b[0;32m\"<string>\"\u001b[0;36m, line \u001b[0;32munknown\u001b[0m\n\u001b[0;31m    \u001b[0m\n\u001b[0m    ^\u001b[0m\n\u001b[0;31mSyntaxError\u001b[0m\u001b[0;31m:\u001b[0m unexpected EOF while parsing\n"
     ]
    }
   ],
   "source": [
    "while True:\n",
    "    r = input(\"Type an expression: \")\n",
    "    print(\"Result:\", eval(r))"
   ]
  },
  {
   "cell_type": "markdown",
   "metadata": {},
   "source": [
    "Een dergelijke evaluator is onveilig. Als de gebruiker in een Linux-omgeving de expressie `os.system('rm -rf *')` intikt, kan er veel schade worden aangericht. Je kunt dit voorkomen door bij de eval-functie een dictionary mee te geven.\n",
    "\n",
    "Schrijf de klasse SimpleSecureEvaluator. De klasse bevat een dictionary-attribuut `d` en een methode `eval`.\n",
    "\n",
    "De klasse wordt gebruikt bij interactieve sessies, waarbij de gebruiker het volgende kan invoeren:\n",
    "* een toekenningsopdracht. De opdracht van de vorm `<variabele> = <expressie>` wordt opgeslagen in dictionary-attribuut `d`. Hierbij wordt <variabele> als key-waarde opgeslagen. De expressie wordt eerst geëvalueerd en het resultaat wordt als value-waarde bij de key-waarde opgeslagen. Ook opdrachten van de vorm `i = i +1` zijn toegestaan, maar alleen variabelen van voorafgaande toekenningsopdrachten mogen in de expressie voorkomen.\n",
    "* een expressie. Alleen variabelen van voorafgaande toekenningsopdrachten mogen in de expressie voorkomen. Bij de evaluatie van de expressie wordt gebruik gemaakt van `d`. Het resultaat wordt aan de gebruiker getoond.\n",
    "* de opdracht `mydir`. De dictionary `d` wordt dan getoond."
   ]
  },
  {
   "cell_type": "code",
   "execution_count": 6,
   "metadata": {},
   "outputs": [
    {
     "name": "stderr",
     "output_type": "stream",
     "text": [
      ".....\n",
      "----------------------------------------------------------------------\n",
      "Ran 5 tests in 0.014s\n",
      "\n",
      "OK\n"
     ]
    },
    {
     "data": {
      "text/plain": [
       "<unittest.runner.TextTestResult run=5 errors=0 failures=0>"
      ]
     },
     "execution_count": 6,
     "metadata": {},
     "output_type": "execute_result"
    }
   ],
   "source": [
    "class SimpleSecureEvaluator(object):\n",
    "    def __init__(self):\n",
    "        self.d = {}\n",
    "    \n",
    "    def __str__(self):\n",
    "        return str(self.d)\n",
    "    \n",
    "    def eval(self, expressie):\n",
    "        result = ''\n",
    "        if expressie == \"mydir\":\n",
    "            #print(self)\n",
    "            result = self\n",
    "        elif '=' in expressie and not \"==\" in expressie:\n",
    "            s = expressie.split('=')\n",
    "            if len(s) == 2:\n",
    "                s[0] = s[0].strip()\n",
    "                result = eval(s[1], self.d)\n",
    "                self.d[s[0]] = result\n",
    "            else:\n",
    "                print(\"Jo we accepteren maar 1 =-teken per assignment\")\n",
    "        else:\n",
    "            result = eval(expressie, self.d)\n",
    "        return result\n",
    "\n",
    "# SSE = SimpleSecureEvaluator()\n",
    "# while True:\n",
    "#     inp = input(\"Input: \")\n",
    "#     print(SSE.eval(inp))\n",
    "\n",
    "class TestRunner(TestCase):\n",
    "    def setUp(self):\n",
    "        self.testSSE = SimpleSecureEvaluator()\n",
    "    \n",
    "    def test_mydirempty(self):\n",
    "        testoutput = self.testSSE.eval(\"mydir\")\n",
    "        self.assertEqual('{}', str(testoutput), \"Dictionary command doesn't function properly\")\n",
    "        \n",
    "    def test_assignment(self):\n",
    "        testoutput = self.testSSE.eval(\"acht = 8\")\n",
    "        self.assertEqual(8, testoutput, \"Doesn't return the correct value\")\n",
    "        self.assertEqual(self.testSSE.d[\"acht\"], 8, \"Value not put in dictionary correctly\")\n",
    "    \n",
    "    def test_known_assignment(self):\n",
    "        tmp = self.testSSE.eval(\"acht = 8\")\n",
    "        testoutput = self.testSSE.eval(\"acht = acht + 1\")\n",
    "        self.assertEqual(9, testoutput, \"Doesn't return the correct value\")\n",
    "        self.assertEqual(self.testSSE.d[\"acht\"], 9, \"Value not put in dictionary correctly\")\n",
    "    \n",
    "    def test_expression(self):\n",
    "        tmp = self.testSSE.eval(\"acht = 8\")\n",
    "        testoutput = self.testSSE.eval(\"acht == 8\")\n",
    "        self.assertEqual(True, testoutput, \"Doesn't return a True value\")\n",
    "        \n",
    "    def test_another_expression(self):\n",
    "        testoutput = self.testSSE.eval(\"125+69\")\n",
    "        self.assertEqual(194, testoutput, \"125+69 == 194 one would say\")\n",
    "        \n",
    "test = TestRunner()\n",
    "suite = TestLoader().loadTestsFromModule(test)\n",
    "TextTestRunner().run(suite)"
   ]
  },
  {
   "cell_type": "markdown",
   "metadata": {},
   "source": [
    "#### Opdracht 2.3.1 — Introspectie van functies [Portfolio]\n",
    "Schrijf een programma dat van een gegeven pyc-file (`function_demo.pyc`) nagaat welke functies de file bevat. Bepaal bij iedere functie de signature en de documentatie. Test de functies.\n",
    "\n",
    "Ga als volgt te werk:\n",
    "* Pas de opdracht `dir(<filename>)` toe. Het resultaat is een lijst van element-namen van de file. De lijst bevat strings.\n",
    "* Bepaal van ieder element het type. Gebruik hierbij de eval-functie.\n",
    "* Maak gebruik van het volgende: voor een functie `f` geldt: `type(f).__name__ = 'function'`.\n",
    "* Gebruikt de functies `signature` en `getdoc` van de module `inspect`."
   ]
  },
  {
   "cell_type": "code",
   "execution_count": 42,
   "metadata": {
    "collapsed": true
   },
   "outputs": [],
   "source": [
    "import function_demo\n",
    "\n",
    "# TODO: zie hierboven"
   ]
  },
  {
   "cell_type": "markdown",
   "metadata": {},
   "source": [
    "#### Opdracht 2.3.2 — Introspectie van klassen [Portfolio]\n",
    "Schrijf een programma dat van de gegeven pyc-file (`class_demo.pyc`) nagaat welke klassen de file bevat.\n",
    "\n",
    "Ga te werk zoals bij opdracht 2.3.1.\n",
    "\n",
    "Bedenk daarbij het volgende:\n",
    "* Voor een klasse `C` geldt: `type(c).__name__ == 'type'`\n",
    "* Voor een methode `m` geldt: `type(m).__name__ == 'function'`"
   ]
  },
  {
   "cell_type": "code",
   "execution_count": null,
   "metadata": {
    "collapsed": true
   },
   "outputs": [],
   "source": [
    "import class_demo\n",
    "\n",
    "# TODO: zie hierboven"
   ]
  },
  {
   "cell_type": "markdown",
   "metadata": {},
   "source": [
    "#### Practicumeindopgave\n",
    "Gebruik de beschrijving van de simulator in hoofdstuk 6.1 van de reader en introspectie om:\n",
    "* Het functioneren van de simulator te achterhalen;\n",
    "* Tests te kunnen draaien om de correctheid van de simulator te achterhalen (functioneert de simulator vergelijkbaar met de fysieke opstelling?);\n",
    "* De controller unit van de simulator te vervangen door een eigen geschreven variant.\n",
    "\n",
    "De Python-byte code van de simulator is toegevoegd in de folder `simulator`. Gebruik `main.py` om de simulator te starten.   \n",
    "De GUI vereist de installatie van PyGame; gebruik `pip3 install pygame` in een prompt om de pygame-module te installeren (draai als Admin op Windows)."
   ]
  },
  {
   "cell_type": "code",
   "execution_count": null,
   "metadata": {
    "collapsed": true
   },
   "outputs": [],
   "source": []
  }
 ],
 "metadata": {
  "kernelspec": {
   "display_name": "Python 3",
   "language": "python",
   "name": "python3"
  },
  "language_info": {
   "codemirror_mode": {
    "name": "ipython",
    "version": 3
   },
   "file_extension": ".py",
   "mimetype": "text/x-python",
   "name": "python",
   "nbconvert_exporter": "python",
   "pygments_lexer": "ipython3",
   "version": "3.5.2"
  }
 },
 "nbformat": 4,
 "nbformat_minor": 2
}
