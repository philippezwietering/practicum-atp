{
 "cells": [
  {
   "cell_type": "markdown",
   "metadata": {},
   "source": [
    "# Practicum OO - AOP\n",
    "Dit bestand bevat de practicumopgaven voor de module OO&AOP van het vak Advanced Technical Programming (TCIT-VKATP-17). \n",
    "\n",
    "Een Jupyter Notebook bestaat uit cells met code of toelichting. Sommige code-cells hoeven enkel uitgevoerd te worden om functies beschikbaar te maken, anderen moet je zelf in vullen (opdrachten staan duidelijk met kopjes gemarkeerd, je moet dan zelf de delen met TODO invullen). Je kunt de code per cel uitvoeren door de cel te selecteren en \"run cell\" te kiezen. De cel direct hieronder laadt de nodige modules in. Als je code niet naar verwachting werkt kan het zijn dat je deze cell moet runnen, of een van de andere cels vóór de cel met error. Let erop dat als je de Jupyter-server afsluit en later verder gaat moet je deze cells opnieuw runnen."
   ]
  },
  {
   "cell_type": "code",
   "execution_count": 1,
   "metadata": {
    "collapsed": true
   },
   "outputs": [],
   "source": [
    "from unittest import *    \n",
    "import doctest\n",
    "import io\n",
    "import inspect\n",
    "from contextlib import redirect_stdout"
   ]
  },
  {
   "cell_type": "markdown",
   "metadata": {},
   "source": [
    "__Opdrachten die zijn gemarkeerd met _[PORTFOLIO]_ dienen te worden opgenomen in je portfolio voor de eindopgave__.\n",
    "\n",
    "Laat deze opdrachten door je docent aftekenen aan het einde van de les (of aan het begin van de volgende les)."
   ]
  },
  {
   "cell_type": "markdown",
   "metadata": {},
   "source": [
    "***\n",
    "## College 2: Reflectie en metaprogrammeren\n",
    "Deze opdrachten gaan over het college over reflectie en metaprogrammeren en dienen aan het einde van dat college te worden gemaakt.\n",
    "\n",
    "Maak ook de opdrachten in de reader!\n",
    "\n",
    "\n",
    "#### Opdracht 2.1 — OO in Python [Portfolio]\n",
    "Een Queue is gebaseerd op het FIFO-principe: First In First Out\n",
    "\n",
    "<img src=\"queue.png\" width=\"500px\">\n",
    "\n",
    "`enqueue` voegt een element achteraan toe.  \n",
    "`dequeue` haalt een element vooraan weg.\n",
    "\n",
    "De volgende klasse implementeert Queue:"
   ]
  },
  {
   "cell_type": "code",
   "execution_count": 2,
   "metadata": {
    "collapsed": true
   },
   "outputs": [],
   "source": [
    "class MyQueue(list):\n",
    "    def __init__(self, a=[]):\n",
    "        list.__init__(self, a)\n",
    "    \n",
    "    def dequeue(self):\n",
    "        return self.pop(0) # geen fout-afhandeling\n",
    "    \n",
    "    def enqueue(self, x):\n",
    "        self.append(x)"
   ]
  },
  {
   "cell_type": "markdown",
   "metadata": {},
   "source": [
    "Python heeft een aantal ingebouwde queue-klassen: Queue, LifeQueue, PriorityQueue, en deque.\n",
    "\n",
    "`deque` staat voor double-ended queue: aan beide kanten van de queue kan worden toegevoegd en verwijderd.\n",
    "\n",
    "Breidt de klasse `MyQueue` uit tot de klasse `MyDeQue`.\n",
    "\n",
    "De klasse heeft de volgende methoden:\n",
    "* `appendright(x)`: voeg `x` aan de rechterkant toe\n",
    "* `appendleft(x)`: voeg `x` aan de linkerkant toe\n",
    "* `popright()`: verwijder en retourneer het element dat helemaal rechts staat\n",
    "* `popleft()`: verwijder en retourneer het element dat helemaal links staat\n",
    "* `reverse()`: keer de elementen in de queue om\n",
    "* `rotateright(n)`: verschuif de elementen `n` posities naar rechts.\n",
    "  Als `n < 0`: verschuif de elementen (`-n`)  posities naar links.\n",
    "* `rotateleft(n)`: verschuif de elementen `n` posities naar links.\n",
    "  Als `n < 0`: verschuif de elementen (`-n`) posities naar rechts.\n",
    "  \n",
    "Maak zoveel mogelijk gebruik van de andere methoden en methoden uit de super-klassen. Zorg voor een goede fout-afhandeling.\n",
    "\n",
    "Denk er ook aan dat je voldoende tests schrijft om de functionaliteit zoals hierboven gegeven kan garanderen!"
   ]
  },
  {
   "cell_type": "code",
   "execution_count": 3,
   "metadata": {},
   "outputs": [
    {
     "name": "stdout",
     "output_type": "stream",
     "text": [
      "[1, -22, 17, 5469, 0]\n",
      "[]\n",
      "[1, -22, 17, 5469, 0, 5]\n",
      "[99, 1, -22, 17, 5469, 0, 5]\n",
      "[99, 1, -22, 17, 5469, 0]\n",
      "[1, -22, 17, 5469, 0]\n",
      "[]\n",
      "[0, 5469, 17, -22, 1]\n",
      "[0, 5469, 17, -22, 1]\n",
      "[-22, 1, 0, 5469, 17]\n",
      "[5469, 17, -22, 1, 0]\n",
      "[-22, 1, 0, 5469, 17]\n"
     ]
    }
   ],
   "source": [
    "class MyDeQue(MyQueue):    \n",
    "    def appendright(self, x=None):\n",
    "        if x is not None:\n",
    "            self.enqueue(x)\n",
    "        \n",
    "    def appendleft(self, x=None):\n",
    "        if x is not None:\n",
    "            self.insert(0, x)\n",
    "    \n",
    "    def popright(self):\n",
    "        if self:\n",
    "            self.pop(-1)\n",
    "    \n",
    "    def popleft(self):\n",
    "        if self:\n",
    "            self.dequeue()\n",
    "    \n",
    "    def reverse(self):\n",
    "        list.reverse(self)\n",
    "    \n",
    "    def rotateright(self, n=0):\n",
    "        if self:\n",
    "            while n > 0:\n",
    "                self.appendleft(self[-1])\n",
    "                self.popright()\n",
    "                n -= 1\n",
    "            while n < 0:\n",
    "                self.appendright(self[0])\n",
    "                self.popleft()\n",
    "                n += 1\n",
    "    \n",
    "    def rotateleft(self, n=0):\n",
    "        self.rotateright(-n)\n",
    "        \n",
    "eennieuwjonglijstje = MyDeQue([1, -22, 17, 5469, 0])\n",
    "print(eennieuwjonglijstje)\n",
    "\n",
    "eenleeglijstje = MyDeQue()\n",
    "print(eenleeglijstje)\n",
    "\n",
    "l = eennieuwjonglijstje\n",
    "l.appendright(5)\n",
    "print(l)\n",
    "l.appendleft(99)\n",
    "print(l)\n",
    "l.popright()\n",
    "print(l)\n",
    "l.popleft()\n",
    "print(l)\n",
    "\n",
    "eenleeglijstje.popright()\n",
    "eenleeglijstje.popleft()\n",
    "print(eenleeglijstje)\n",
    "\n",
    "l.reverse()\n",
    "print(l)\n",
    "l.rotateright()\n",
    "print(l)\n",
    "l.rotateright(2)\n",
    "print(l)\n",
    "l.rotateleft(-2)\n",
    "print(l)\n",
    "l.rotateleft(2)\n",
    "print(l)"
   ]
  },
  {
   "cell_type": "markdown",
   "metadata": {},
   "source": [
    "#### Opdracht 2.2 — `eval` en veiligheid [Portfolio]\n",
    "\n",
    "Raadpleeg de site https://www.programiz.com/python-programming/methods/built-in/eval\n",
    "\n",
    "Een eenvoudige interactieve expressie-evaluator is de volgende:"
   ]
  },
  {
   "cell_type": "code",
   "execution_count": 4,
   "metadata": {},
   "outputs": [
    {
     "name": "stdout",
     "output_type": "stream",
     "text": [
      "Type an expression: j\n"
     ]
    },
    {
     "ename": "NameError",
     "evalue": "name 'j' is not defined",
     "output_type": "error",
     "traceback": [
      "\u001b[0;31m---------------------------------------------------------------------------\u001b[0m",
      "\u001b[0;31mNameError\u001b[0m                                 Traceback (most recent call last)",
      "\u001b[0;32m<ipython-input-4-f8d2f2ca8d17>\u001b[0m in \u001b[0;36m<module>\u001b[0;34m()\u001b[0m\n\u001b[1;32m      1\u001b[0m \u001b[0;32mwhile\u001b[0m \u001b[0;32mTrue\u001b[0m\u001b[0;34m:\u001b[0m\u001b[0;34m\u001b[0m\u001b[0m\n\u001b[1;32m      2\u001b[0m     \u001b[0mr\u001b[0m \u001b[0;34m=\u001b[0m \u001b[0minput\u001b[0m\u001b[0;34m(\u001b[0m\u001b[0;34m\"Type an expression: \"\u001b[0m\u001b[0;34m)\u001b[0m\u001b[0;34m\u001b[0m\u001b[0m\n\u001b[0;32m----> 3\u001b[0;31m     \u001b[0mprint\u001b[0m\u001b[0;34m(\u001b[0m\u001b[0;34m\"Result:\"\u001b[0m\u001b[0;34m,\u001b[0m \u001b[0meval\u001b[0m\u001b[0;34m(\u001b[0m\u001b[0mr\u001b[0m\u001b[0;34m)\u001b[0m\u001b[0;34m)\u001b[0m\u001b[0;34m\u001b[0m\u001b[0m\n\u001b[0m",
      "\u001b[0;32m<string>\u001b[0m in \u001b[0;36m<module>\u001b[0;34m()\u001b[0m\n",
      "\u001b[0;31mNameError\u001b[0m: name 'j' is not defined"
     ]
    }
   ],
   "source": [
    "while True:\n",
    "    r = input(\"Type an expression: \")\n",
    "    print(\"Result:\", eval(r))"
   ]
  },
  {
   "cell_type": "markdown",
   "metadata": {},
   "source": [
    "Een dergelijke evaluator is onveilig. Als de gebruiker in een Linux-omgeving de expressie `os.system('rm -rf *')` intikt, kan er veel schade worden aangericht. Je kunt dit voorkomen door bij de eval-functie een dictionary mee te geven.\n",
    "\n",
    "Schrijf de klasse SimpleSecureEvaluator. De klasse bevat een dictionary-attribuut `d` en een methode `eval`.\n",
    "\n",
    "De klasse wordt gebruikt bij interactieve sessies, waarbij de gebruiker het volgende kan invoeren:\n",
    "* een toekenningsopdracht. De opdracht van de vorm `<variabele> = <expressie>` wordt opgeslagen in dictionary-attribuut `d`. Hierbij wordt <variabele> als key-waarde opgeslagen. De expressie wordt eerst geëvalueerd en het resultaat wordt als value-waarde bij de key-waarde opgeslagen. Ook opdrachten van de vorm `i = i +1` zijn toegestaan, maar alleen variabelen van voorafgaande toekenningsopdrachten mogen in de expressie voorkomen.\n",
    "* een expressie. Alleen variabelen van voorafgaande toekenningsopdrachten mogen in de expressie voorkomen. Bij de evaluatie van de expressie wordt gebruik gemaakt van `d`. Het resultaat wordt aan de gebruiker getoond.\n",
    "* de opdracht `mydir`. De dictionary `d` wordt dan getoond."
   ]
  },
  {
   "cell_type": "code",
   "execution_count": null,
   "metadata": {},
   "outputs": [
    {
     "name": "stdout",
     "output_type": "stream",
     "text": [
      "Input: x\n",
      "1\n",
      "Input: y = 3\n",
      "3\n",
      "Input: mydir\n",
      "{'__builtins__': {'ConnectionRefusedError': <class 'ConnectionRefusedError'>, 'UnicodeError': <class 'UnicodeError'>, 'copyright': Copyright (c) 2001-2016 Python Software Foundation.\n",
      "All Rights Reserved.\n",
      "\n",
      "Copyright (c) 2000 BeOpen.com.\n",
      "All Rights Reserved.\n",
      "\n",
      "Copyright (c) 1995-2001 Corporation for National Research Initiatives.\n",
      "All Rights Reserved.\n",
      "\n",
      "Copyright (c) 1991-1995 Stichting Mathematisch Centrum, Amsterdam.\n",
      "All Rights Reserved., 'callable': <built-in function callable>, 'IsADirectoryError': <class 'IsADirectoryError'>, 'ord': <built-in function ord>, 'hex': <built-in function hex>, 'FloatingPointError': <class 'FloatingPointError'>, 'FileExistsError': <class 'FileExistsError'>, 'type': <class 'type'>, 'eval': <built-in function eval>, 'setattr': <built-in function setattr>, 'issubclass': <built-in function issubclass>, 'globals': <built-in function globals>, 'int': <class 'int'>, 'InterruptedError': <class 'InterruptedError'>, 'BrokenPipeError': <class 'BrokenPipeError'>, 'license': Type license() to see the full license text, 'ConnectionResetError': <class 'ConnectionResetError'>, 'delattr': <built-in function delattr>, 'reversed': <class 'reversed'>, '__spec__': ModuleSpec(name='builtins', loader=<class '_frozen_importlib.BuiltinImporter'>), 'KeyError': <class 'KeyError'>, 'get_ipython': <bound method InteractiveShell.get_ipython of <ipykernel.zmqshell.ZMQInteractiveShell object at 0x7f3e9a5c7278>>, 'max': <built-in function max>, 'UserWarning': <class 'UserWarning'>, 'hash': <built-in function hash>, 'ChildProcessError': <class 'ChildProcessError'>, 'ImportError': <class 'ImportError'>, 'staticmethod': <class 'staticmethod'>, 'exec': <built-in function exec>, 'list': <class 'list'>, 'property': <class 'property'>, 'MemoryError': <class 'MemoryError'>, 'SystemError': <class 'SystemError'>, 'ZeroDivisionError': <class 'ZeroDivisionError'>, 'repr': <built-in function repr>, 'enumerate': <class 'enumerate'>, 'len': <built-in function len>, 'RuntimeError': <class 'RuntimeError'>, 'divmod': <built-in function divmod>, 'vars': <built-in function vars>, 'compile': <built-in function compile>, 'ascii': <built-in function ascii>, 'StopAsyncIteration': <class 'StopAsyncIteration'>, 'NameError': <class 'NameError'>, 'FutureWarning': <class 'FutureWarning'>, 'SyntaxWarning': <class 'SyntaxWarning'>, 'IOError': <class 'OSError'>, 'LookupError': <class 'LookupError'>, 'min': <built-in function min>, 'frozenset': <class 'frozenset'>, 'bin': <built-in function bin>, 'StopIteration': <class 'StopIteration'>, 'sorted': <built-in function sorted>, 'zip': <class 'zip'>, 'format': <built-in function format>, 'open': <built-in function open>, 'OSError': <class 'OSError'>, 'Ellipsis': Ellipsis, '__debug__': True, '__loader__': <class '_frozen_importlib.BuiltinImporter'>, 'id': <built-in function id>, '__IPYTHON__': True, 'IndentationError': <class 'IndentationError'>, 'EnvironmentError': <class 'OSError'>, 'TimeoutError': <class 'TimeoutError'>, '__doc__': \"Built-in functions, exceptions, and other objects.\\n\\nNoteworthy: None is the `nil' object; Ellipsis represents `...' in slices.\", 'TabError': <class 'TabError'>, '__name__': 'builtins', 'RuntimeWarning': <class 'RuntimeWarning'>, 'object': <class 'object'>, 'super': <class 'super'>, 'RecursionError': <class 'RecursionError'>, 'PermissionError': <class 'PermissionError'>, 'dict': <class 'dict'>, 'BytesWarning': <class 'BytesWarning'>, 'input': <bound method Kernel.raw_input of <ipykernel.ipkernel.IPythonKernel object at 0x7f3e9a5c7f28>>, 'PendingDeprecationWarning': <class 'PendingDeprecationWarning'>, 'True': True, 'help': Type help() for interactive help, or help(object) for help about object., '__build_class__': <built-in function __build_class__>, 'None': None, 'tuple': <class 'tuple'>, 'UnicodeEncodeError': <class 'UnicodeEncodeError'>, 'all': <built-in function all>, 'slice': <class 'slice'>, 'Warning': <class 'Warning'>, 'ConnectionError': <class 'ConnectionError'>, 'display': <function display at 0x7f3e9e2136a8>, 'UnicodeTranslateError': <class 'UnicodeTranslateError'>, 'DeprecationWarning': <class 'DeprecationWarning'>, 'str': <class 'str'>, 'EOFError': <class 'EOFError'>, 'ResourceWarning': <class 'ResourceWarning'>, 'any': <built-in function any>, 'BufferError': <class 'BufferError'>, 'OverflowError': <class 'OverflowError'>, 'print': <built-in function print>, 'Exception': <class 'Exception'>, 'ArithmeticError': <class 'ArithmeticError'>, 'FileNotFoundError': <class 'FileNotFoundError'>, 'NotADirectoryError': <class 'NotADirectoryError'>, 'SyntaxError': <class 'SyntaxError'>, 'IndexError': <class 'IndexError'>, 'NotImplementedError': <class 'NotImplementedError'>, 'round': <built-in function round>, 'bytearray': <class 'bytearray'>, 'oct': <built-in function oct>, 'pow': <built-in function pow>, 'complex': <class 'complex'>, 'False': False, 'NotImplemented': NotImplemented, '__import__': <built-in function __import__>, 'set': <class 'set'>, 'bool': <class 'bool'>, 'AssertionError': <class 'AssertionError'>, 'abs': <built-in function abs>, 'KeyboardInterrupt': <class 'KeyboardInterrupt'>, 'chr': <built-in function chr>, 'getattr': <built-in function getattr>, 'hasattr': <built-in function hasattr>, 'classmethod': <class 'classmethod'>, 'TypeError': <class 'TypeError'>, 'UnicodeDecodeError': <class 'UnicodeDecodeError'>, 'ProcessLookupError': <class 'ProcessLookupError'>, 'bytes': <class 'bytes'>, 'AttributeError': <class 'AttributeError'>, 'map': <class 'map'>, 'UnicodeWarning': <class 'UnicodeWarning'>, 'ImportWarning': <class 'ImportWarning'>, 'ValueError': <class 'ValueError'>, 'memoryview': <class 'memoryview'>, 'UnboundLocalError': <class 'UnboundLocalError'>, 'range': <class 'range'>, 'iter': <built-in function iter>, '__package__': '', 'BaseException': <class 'BaseException'>, 'ReferenceError': <class 'ReferenceError'>, 'next': <built-in function next>, 'dir': <built-in function dir>, 'SystemExit': <class 'SystemExit'>, 'float': <class 'float'>, 'ConnectionAbortedError': <class 'ConnectionAbortedError'>, 'filter': <class 'filter'>, 'GeneratorExit': <class 'GeneratorExit'>, 'BlockingIOError': <class 'BlockingIOError'>, 'isinstance': <built-in function isinstance>, 'locals': <built-in function locals>, 'credits':     Thanks to CWI, CNRI, BeOpen.com, Zope Corporation and a cast of thousands\n",
      "    for supporting Python development.  See www.python.org for more information., 'sum': <built-in function sum>}, 'x': 1, 'y': 3}\n"
     ]
    }
   ],
   "source": [
    "class SimpleSecureEvaluator(object):\n",
    "    def __init__(self):\n",
    "        self.d = {\"x\": 1}\n",
    "    \n",
    "    def __str__(self):\n",
    "        return str(self.d)\n",
    "    \n",
    "    def eval(self, expressie):\n",
    "        result = ''\n",
    "        if expressie == \"mydir\":\n",
    "            #print(self)\n",
    "            result = self\n",
    "        elif '=' in expressie and not \"==\" in expressie:\n",
    "            s = expressie.split('=')\n",
    "            if len(s) == 2:\n",
    "                s[0] = s[0].strip()\n",
    "                result = eval(s[1], self.d)\n",
    "                self.d[s[0]] = result\n",
    "            else:\n",
    "                print(\"Jo we accepteren maar 1 =-teken per assignment\")\n",
    "        else:\n",
    "            result = eval(expressie, self.d)\n",
    "        return result\n",
    "\n",
    "SSE = SimpleSecureEvaluator()\n",
    "while True:\n",
    "    inp = input(\"Input: \")\n",
    "    print(SSE.eval(inp))\n",
    "\n",
    "# class TestRunner(TestCase):\n",
    "#     def setUp(self):\n",
    "#         self.testSSE = SimpleSecureEvaluator()\n",
    "    \n",
    "#     def test_mydirempty(self):\n",
    "#         testoutput = self.testSSE.eval(\"mydir\")\n",
    "#         self.assertEqual('{}', str(testoutput), \"Dictionary command doesn't function properly\")\n",
    "        \n",
    "#     def test_assignment(self):\n",
    "#         testoutput = self.testSSE.eval(\"acht = 8\")\n",
    "#         self.assertEqual(8, testoutput, \"Doesn't return the correct value\")\n",
    "#         self.assertEqual(self.testSSE.d[\"acht\"], 8, \"Value not put in dictionary correctly\")\n",
    "    \n",
    "#     def test_known_assignment(self):\n",
    "#         tmp = self.testSSE.eval(\"acht = 8\")\n",
    "#         testoutput = self.testSSE.eval(\"acht = acht + 1\")\n",
    "#         self.assertEqual(9, testoutput, \"Doesn't return the correct value\")\n",
    "#         self.assertEqual(self.testSSE.d[\"acht\"], 9, \"Value not put in dictionary correctly\")\n",
    "    \n",
    "#     def test_expression(self):\n",
    "#         tmp = self.testSSE.eval(\"acht = 8\")\n",
    "#         testoutput = self.testSSE.eval(\"acht == 8\")\n",
    "#         self.assertEqual(True, testoutput, \"Doesn't return a True value\")\n",
    "        \n",
    "#     def test_another_expression(self):\n",
    "#         testoutput = self.testSSE.eval(\"125+69\")\n",
    "#         self.assertEqual(194, testoutput, \"125+69 == 194 one would say\")\n",
    "        \n",
    "#     def test_inclusion(self):\n",
    "#         test1 = self.testSSE.eval(\"x = 1\")\n",
    "#         test2 = self.testSSE.eval(\"y = 2\")\n",
    "#         testoutput = self.testSSE.eval(\"xy = x + y\")\n",
    "#         self.assertEqual(3, testoutput, \"\")\n",
    "        \n",
    "#     def test_function(self):\n",
    "#         testoutput = self.testSSE.eval(\"x = print('Hello')\")\n",
    "#         self.assertEqual(\"\", testoutput, \"\")\n",
    "        \n",
    "# test = TestRunner()\n",
    "# suite = TestLoader().loadTestsFromModule(test)\n",
    "# TextTestRunner().run(suite)"
   ]
  },
  {
   "cell_type": "markdown",
   "metadata": {},
   "source": [
    "#### Opdracht 2.3.1 — Introspectie van functies\n",
    "Schrijf een programma dat van een gegeven pyc-file (`function_demo.pyc`) nagaat welke functies de file bevat. Bepaal bij iedere functie de signature en de documentatie. Test de functies.\n",
    "\n",
    "Ga als volgt te werk:\n",
    "* Pas de opdracht `dir(<modulename>)` toe. Het resultaat is een lijst van element-namen van de file. De lijst bevat strings.\n",
    "* Bepaal van ieder element het type. Gebruik hierbij de eval-functie.\n",
    "* Maak gebruik van het volgende: voor een functie `f` geldt: `type(f).__name__ = 'function'`.\n",
    "* Gebruikt de functies `signature` en `getdoc` van de module `inspect`."
   ]
  },
  {
   "cell_type": "code",
   "execution_count": 9,
   "metadata": {},
   "outputs": [
    {
     "name": "stdout",
     "output_type": "stream",
     "text": [
      "(a:typing.List, low:int, high:int) -> None\n",
      "sort in place list a.\n",
      "parameters:\n",
      "    a: list to be sorted\n",
      "    low: lowest index of a\n",
      "    high: highest index of a\n",
      "return:\n",
      "    None\n",
      "(a:typing.List) -> bool\n",
      "test of a gesorteerd is.\n",
      "parameters:\n",
      "    a: list to be tested\n",
      "return:\n",
      "    True if a is sorted\n",
      "    False if a is unsorted\n",
      "(a:typing.List, low:int=0, high:int=-1) -> None\n",
      "sort recursively in place list a.\n",
      "parameters:\n",
      "    a: list to be sorted\n",
      "    low: lowest index of a\n",
      "    high: highest index of a\n",
      "return:\n",
      "    None\n"
     ]
    }
   ],
   "source": [
    "import function_demo_3_5\n",
    "\n",
    "lijstje = dir(function_demo_3_5)\n",
    "for l in lijstje:\n",
    "    x = eval(\"function_demo_3_5.\"+l)\n",
    "    if inspect.isfunction(x):\n",
    "        print(inspect.signature(x))\n",
    "        print(inspect.getdoc(x))"
   ]
  },
  {
   "cell_type": "markdown",
   "metadata": {},
   "source": [
    "#### Opdracht 2.3.2 — Introspectie van klassen\n",
    "Schrijf een programma dat van de gegeven pyc-file (`class_demo.pyc`) nagaat welke klassen de file bevat.\n",
    "\n",
    "Ga te werk zoals bij opdracht 2.3.1.\n",
    "\n",
    "Bedenk daarbij het volgende:\n",
    "* Voor een klasse `C` geldt: `type(c).__name__ == 'type'`\n",
    "* Voor een methode `m` geldt: `type(m).__name__ == 'function'`"
   ]
  },
  {
   "cell_type": "code",
   "execution_count": 11,
   "metadata": {},
   "outputs": [
    {
     "name": "stdout",
     "output_type": "stream",
     "text": [
      "(*args, **kwds)\n",
      "Mix-in class to prevent instantiation.\n",
      "(a:typing.List=None)\n",
      "None\n",
      "(element:typing.A, left:typing.List, right:typing.List)\n",
      "None\n",
      "(*args, **kwds)\n",
      "list() -> new empty list\n",
      "list(iterable) -> new list initialized from iterable's items\n",
      "(name, *constraints, bound=None, covariant=False, contravariant=False)\n",
      "Type variable.\n",
      "\n",
      "Usage::\n",
      "\n",
      "  T = TypeVar('T')  # Can be anything\n",
      "  A = TypeVar('A', str, bytes)  # Must be str or bytes\n",
      "\n",
      "Type variables exist primarily for the benefit of static type\n",
      "checkers.  They serve as the parameters for generic types as well\n",
      "as for generic function definitions.  See class Generic for more\n",
      "information on generic types.  Generic functions work as follows:\n",
      "\n",
      "  def repeat(x: T, n: int) -> Sequence[T]:\n",
      "      '''Return a list containing n references to x.'''\n",
      "      return [x]*n\n",
      "\n",
      "  def longest(x: A, y: A) -> A:\n",
      "      '''Return the longest of two strings.'''\n",
      "      return x if len(x) >= len(y) else y\n",
      "\n",
      "The latter example's signature is essentially the overloading\n",
      "of (str, str) -> str and (bytes, bytes) -> bytes.  Also note\n",
      "that if the arguments are instances of some subclass of str,\n",
      "the return type is still plain str.\n",
      "\n",
      "At runtime, isinstance(x, T) will raise TypeError.  However,\n",
      "issubclass(C, T) is true for any class C, and issubclass(str, A)\n",
      "and issubclass(bytes, A) are true, and issubclass(int, A) is\n",
      "false.  (TODO: Why is this needed?  This may change.  See #136.)\n",
      "\n",
      "Type variables may be marked covariant or contravariant by passing\n",
      "covariant=True or contravariant=True.  See PEP 484 for more\n",
      "details.  By default type variables are invariant.\n",
      "\n",
      "Type variables can be introspected. e.g.:\n",
      "\n",
      "  T.__name__ == 'T'\n",
      "  T.__constraints__ == ()\n",
      "  T.__covariant__ == False\n",
      "  T.__contravariant__ = False\n",
      "  A.__constraints__ == (str, bytes)\n",
      "(*args, **kwds)\n",
      "Union type; Union[X, Y] means either X or Y.\n",
      "\n",
      "To define a union, use e.g. Union[int, str].  Details:\n",
      "\n",
      "- The arguments must be types and there must be at least one.\n",
      "\n",
      "- None as an argument is a special case and is replaced by\n",
      "  type(None).\n",
      "\n",
      "- Unions of unions are flattened, e.g.::\n",
      "\n",
      "    Union[Union[int, str], float] == Union[int, str, float]\n",
      "\n",
      "- Unions of a single argument vanish, e.g.::\n",
      "\n",
      "    Union[int] == int  # The constructor actually returns int\n",
      "\n",
      "- Redundant arguments are skipped, e.g.::\n",
      "\n",
      "    Union[int, str, int] == Union[int, str]\n",
      "\n",
      "- When comparing unions, the argument order is ignored, e.g.::\n",
      "\n",
      "    Union[int, str] == Union[str, int]\n",
      "\n",
      "- When two arguments have a subclass relationship, the least\n",
      "  derived argument is kept, e.g.::\n",
      "\n",
      "    class Employee: pass\n",
      "    class Manager(Employee): pass\n",
      "    Union[int, Employee, Manager] == Union[int, Employee]\n",
      "    Union[Manager, int, Employee] == Union[int, Employee]\n",
      "    Union[Employee, Manager] == Employee\n",
      "\n",
      "- Corollary: if Any is present it is the sole survivor, e.g.::\n",
      "\n",
      "    Union[int, Any] == Any\n",
      "\n",
      "- Similar for object::\n",
      "\n",
      "    Union[int, object] == object\n",
      "\n",
      "- To cut a tie: Union[object, Any] == Union[Any, object] == Any.\n",
      "\n",
      "- You cannot subclass or instantiate a union.\n",
      "\n",
      "- You cannot write Union[X][Y] (what would it mean?).\n",
      "\n",
      "- You can use Optional[X] as a shorthand for Union[X, None].\n"
     ]
    }
   ],
   "source": [
    "import class_demo_3_5\n",
    "\n",
    "lijstje = dir(class_demo_3_5)\n",
    "for l in lijstje:\n",
    "    x = eval(\"class_demo_3_5.\" + l)\n",
    "    if inspect.isclass(x):\n",
    "        print(inspect.signature(x))\n",
    "        print(inspect.getdoc(x))"
   ]
  },
  {
   "cell_type": "markdown",
   "metadata": {},
   "source": [
    "#### Opdracht 2.4 — Decorators [ Portfolio]\n",
    "Een decorator is een functie die andere functies aanpast om zodanig (aspect-oriented) functionaliteit toe te voegen. Denk bijvoorbeeld aan de optie op een timing toe te  voegen (hoe lang duurt het uitvoeren van een bepaalde functie-aanroep), of security aspecten (alleen als het juiste pincode/password wordt ingevoerd na aanroep zal de functie ook echt worden uitgevoerd).\n",
    "\n",
    "Het basispatroon van een decorator is het volgende:"
   ]
  },
  {
   "cell_type": "code",
   "execution_count": 8,
   "metadata": {},
   "outputs": [
    {
     "name": "stdout",
     "output_type": "stream",
     "text": [
      "Do something useful here!\n",
      "4\n",
      "--------------------\n",
      "2.0\n",
      "--------------------\n",
      "Do something useful here!\n",
      "2.0\n"
     ]
    }
   ],
   "source": [
    "from functools import wraps\n",
    "\n",
    "def myDecorator(f):\n",
    "    # Definieer een binnenste functie, die je om de 'oude' functie heen 'wrapt'\n",
    "    @wraps(f) #Gebruik van wraps niet noodzakelijk (zie reader), maar wel netter\n",
    "    def inner(*args, **kwargs): \n",
    "        # gebruik van list arguments en dict keyword arguments omdat we niet weten wat voor functie we gaan krijgen.\n",
    "        print(\"Do something useful here!\")\n",
    "        result = f(*args, **kwargs)\n",
    "        # mogelijk nog meer nuttige aanroepen hier...\n",
    "        return result\n",
    "    return inner\n",
    "\n",
    "# Toepassen d.m.v. '@' alleen mogelijk bij definitie van de functie!\n",
    "@myDecorator\n",
    "def successor(x):\n",
    "    return x+1\n",
    "\n",
    "print(successor(3))\n",
    "print('-'*20)\n",
    "\n",
    "# Maar het kan ook door 'overschrijven' van eerder gedefinieerde functie (= hernoemen van de functie-pointer)\n",
    "from math import sqrt\n",
    "print(sqrt(4)) # nog niets verandert\n",
    "\n",
    "print('-'*20)\n",
    "\n",
    "sqrt = myDecorator(sqrt)\n",
    "print(sqrt(4)) # nu wel!"
   ]
  },
  {
   "cell_type": "markdown",
   "metadata": {},
   "source": [
    "Herschrijf de decorator hierboven zodat hij naar het scherm schrijft welke functie (naam) uit welke module (naam) er gedraait is. Je kan deze decorator vervolgens toepassen bij de volgende opdracht, als je kan achterhalen hoe je hem toevoegd aan __alle__ functies van __alle__ modules van de simulator."
   ]
  },
  {
   "cell_type": "markdown",
   "metadata": {},
   "source": [
    "#### Eindopdracht\n",
    "Gebruik de beschrijving van de simulator in hoofdstuk 6.1 van de reader en introspectie om:\n",
    "* Het functioneren van de simulator te achterhalen;\n",
    "* Tests te kunnen draaien om de correctheid van de simulator te achterhalen (functioneert de simulator vergelijkbaar met de fysieke opstelling?);\n",
    "* De controller unit van de simulator te vervangen door een eigen geschreven variant.\n",
    "\n",
    "De Python-byte code van de simulator is toegevoegd in de folder `simulator-3.5` (voor Python 3.5) en `simulator-3.6` (voor Python 3.6). Gebruik `main.py` om de simulator te starten.   \n",
    "De GUI vereist de installatie van PyGame; gebruik `pip3 install pygame` in een prompt om de pygame-module te installeren (draai als Admin op Windows)."
   ]
  },
  {
   "cell_type": "code",
   "execution_count": null,
   "metadata": {
    "collapsed": true
   },
   "outputs": [],
   "source": []
  }
 ],
 "metadata": {
  "kernelspec": {
   "display_name": "Python 3",
   "language": "python",
   "name": "python3"
  },
  "language_info": {
   "codemirror_mode": {
    "name": "ipython",
    "version": 3
   },
   "file_extension": ".py",
   "mimetype": "text/x-python",
   "name": "python",
   "nbconvert_exporter": "python",
   "pygments_lexer": "ipython3",
   "version": "3.6.3"
  }
 },
 "nbformat": 4,
 "nbformat_minor": 2
}
