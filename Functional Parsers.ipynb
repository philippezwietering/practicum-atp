{
 "cells": [
  {
   "cell_type": "markdown",
   "metadata": {},
   "source": [
    "# Extra opdracht - Functional Parsers\n",
    "Een toepassing waar FP zich goed voor leent is het schrijven van parsers. Een parser is te beschrijven als een simpele en compositioneerbare functie. Een parser heeft het type $String \\to [(a, String)]$: een input-string wordt ingelezen, en het resultaat is een lijst van mogelijke parses. Iedere parse bestaat op haar beurt weer uit een resultaat en een restant: het deel van de string dat (nog) niet nodig was. Hieronder zijn wat functies gedefiniëerd voor het combineren van parsers.\n",
    "- `pure` maakt een parser die niets met de input doet en een meegegeven waarde als resultaat oplevert.\n",
    "- `then` combineert twee parsers: beide parsers moeten op volgorde matchen, en de resultaten worden gecombineerd met een meegegeven functie.\n",
    "- `either` combineert twee parsers door eerst de eerste te proberen, en als deze faalt de tweede te proberen. `either` geeft de mogelijkheid om meerdere alternatieven te combineren.\n",
    "- `all` combineert een lijst parsers, op dezelfde manier als `then` twee parsers combineert. Alle parsers moeten hetzelfde type hebben, en de meegegeven functie wordt gebruikt om all resultaten te `fold`en."
   ]
  },
  {
   "cell_type": "code",
   "execution_count": null,
   "metadata": {
    "collapsed": false
   },
   "outputs": [],
   "source": [
    "from typing import Callable, List, Tuple, TypeVar\n",
    "import operator\n",
    "from functools import reduce, partial\n",
    "A = TypeVar('a')\n",
    "B = TypeVar('b')\n",
    "C = TypeVar('c')\n",
    "\n",
    "def join(xss: List[List[A]]) -> List[A]:\n",
    "    return reduce(lambda x,y: x+y, xss, [])\n",
    "\n",
    "def pure(rv: A) -> Callable[[List[str]], List[Tuple[A, str]]]:\n",
    "    \"\"\"Lift a value into a parser; creates a parser that does not touch its input and returns a.\"\"\"\n",
    "    def parse(input: List[str]) -> List[Tuple[A,str]]:\n",
    "        return [(rv, input)]\n",
    "    return parse\n",
    "\n",
    "def then(f: Callable[[A,B], C], \\\n",
    "        pa: Callable[[List[str]], List[Tuple[A, str]]], \\\n",
    "        pb: Callable[[List[str]], List[Tuple[B, str]]]) \\\n",
    "         -> Callable[[List[str]], List[Tuple[C, str]]]:\n",
    "    \"\"\"Chain two parsers together and combine the results using f.\"\"\"\n",
    "    def parse(input: List[str]) -> List[Tuple[C, str]]:\n",
    "        return join(map(lambda r1: list(map(lambda r2: (f(r1[0], r2[0]), r2[1]), pb(r1[1]))), pa(input)))\n",
    "    return parse\n",
    "\n",
    "def either(pa: Callable[[List[str]], List[Tuple[A, str]]], \\\n",
    "           pb: Callable[[List[str]], List[Tuple[A, str]]]) \\\n",
    "            -> Callable[[List[str]], List[Tuple[A, str]]]:\n",
    "    \"\"\"Combine two parsers by taking the first one that succeeds.\"\"\"\n",
    "    def parse(input: List[str]) -> List[Tuple[A, str]]:\n",
    "        r = pa(input)\n",
    "        if len(r) > 0:\n",
    "            return pa(input)\n",
    "        else:\n",
    "            return pb(input)\n",
    "    return parse\n",
    "\n",
    "def all(f: Callable[[A,A], A], \\\n",
    "       ps: List[Callable[[List[str]], List[Tuple[A, str]]]]) \\\n",
    "        -> Callable[[List[str]], List[Tuple[A, str]]]:\n",
    "    \"\"\"Chain a list of parsers together using f.\"\"\"\n",
    "    return(reduce(partial(then, f), ps))\n",
    "\n",
    "def any(ps: List[Callable[[List[str]], List[Tuple[A, str]]]]) \\\n",
    "        -> Callable[[List[str]], List[Tuple[A, str]]]:\n",
    "    \"\"\"Choose the first succesfull parser from a list.\"\"\"\n",
    "    return(reduce(either, ps))\n",
    "\n",
    "def repeat(p: Callable[[List[str]], List[Tuple[A, str]]]) \\\n",
    "           -> Callable[[List[str]], List[Tuple[List[A], str]]]:\n",
    "    \"\"\"Keep applying p until it fails.\"\"\"\n",
    "    def parse(input: List[str]) -> List[Tuple[List[A], str]]:\n",
    "        if len(p(input)) > 0:\n",
    "            return then(operator.add, p, repeat(p))(input)\n",
    "        else:\n",
    "            return pure(\"\")(input)\n",
    "    return parse"
   ]
  },
  {
   "cell_type": "markdown",
   "metadata": {},
   "source": [
    "Hieronder zien we een voorbeeldparser, die een enkel gegeven karakter kan parsen. Parsers met een argument worden gecurry'd gebruikt: in dit geval wordt het argument `match` (het karakter dat gezocht wordt) eerst meegegeven, waarna het resultaat (technisch gezien een *parially applied function*) het standaard parser-type heeft. `parse_character` is een parser-generator, `parse_character('a')` is een voorbeeld van een parser die hiermee gemaakt kan worden. \n",
    "\n",
    "In dit geval heeft onze parser 0 of 1 mogelijke resultaten, dus een lege lijst of een singleton lijst. Andere parsers kunnen meerdere mogelijke resultaten hebben, zoals een parser die een reeks `a`'s matcht: deze kan 1, 2, ... `a`'s matchen, en al deze opties moeten beschikbaar zijn. Als de volgende parser bijvoorbeeld een enkele `a` nodig heeft kan deze slagen, waar dat met alleen de greedy optie niet zou kunnen.\n",
    "\n",
    "De parser-generator `parse_string` matcht een langere string door meerdere `parse_character` instanties te combineren."
   ]
  },
  {
   "cell_type": "code",
   "execution_count": null,
   "metadata": {
    "collapsed": false
   },
   "outputs": [],
   "source": [
    "def parse_character(match: str) -> Callable[[List[str]], List[Tuple[str, str]]]:\n",
    "    \"\"\"Parses a given character.\"\"\"\n",
    "    def parse(input: List[str]) -> List[Tuple[str, str]]:\n",
    "        if len(input) == 0:              # Check for empty input\n",
    "            return []\n",
    "        else:\n",
    "            head, *tail = input          # Split on first character\n",
    "            if head == match:            # Check if this is the droid we are looking for\n",
    "                return [(head, tail)]    # Return the match and the rest of the string.\n",
    "            else:\n",
    "                return []\n",
    "    return parse\n",
    "\n",
    "def parse_string(match: str) -> Callable[[List[str]], List[Tuple[str, str]]]:\n",
    "    \"\"\"Parses a given string.\"\"\"\n",
    "    return all(operator.add, map(parse_character, [*match]))"
   ]
  },
  {
   "cell_type": "markdown",
   "metadata": {},
   "source": [
    "Hieronder zien we de parsers in actie. De test-string wordt eerst opgebroken in een lijst van karakters, zodat we geen verrassingen hebben over het type."
   ]
  },
  {
   "cell_type": "code",
   "execution_count": null,
   "metadata": {
    "collapsed": false
   },
   "outputs": [],
   "source": [
    "# Example string\n",
    "test = [*\"Test\"]\n",
    "\n",
    "# Parse using explicit then on parse_character:\n",
    "print(then(operator.add, either(parse_character(\"T\"), parse_character(\"t\")), \n",
    "           then(operator.add, parse_character(\"e\"),\n",
    "                then(operator.add, parse_character(\"s\"),\n",
    "                     parse_character(\"t\"))))(test))\n",
    "\n",
    "# Parse using all to combine a list of parse_character:\n",
    "print(all(operator.add, [either(parse_character(\"T\"), parse_character(\"t\")), \n",
    "                         parse_character(\"e\"),\n",
    "                         parse_character(\"s\"),\n",
    "                         parse_character(\"t\")])(test))\n",
    "\n",
    "# Parse using parse_string:\n",
    "print(parse_string(\"Test\")(test))\n",
    "\n",
    "# This should fail and return an empty list of results:\n",
    "print(all(operator.add, [either(parse_character(\"E\"), parse_character(\"e\")), \n",
    "                         parse_character(\"r\"),\n",
    "                         parse_character(\"r\"),\n",
    "                         parse_character(\"o\"),\n",
    "                         parse_character(\"r\")])(test))"
   ]
  },
  {
   "cell_type": "markdown",
   "metadata": {},
   "source": [
    "## Rekenparsers\n",
    "Met dit kleine opzetje mogen jullie zelf aan de slag. Je gaat een set parsers maken om simpele sommen te lezen en te berekenen. Schrijf hiertoe eerst een parser die een getal in kan lezen. Let erop dat een getal uit meerdere cijfers kan bestaan: de parser is pas klaar als ze een symbool tegenkomt dat geen cijfer is. Aan het type is te zien dat de parser een `int` terug gaat geven."
   ]
  },
  {
   "cell_type": "code",
   "execution_count": null,
   "metadata": {
    "collapsed": false
   },
   "outputs": [],
   "source": [
    "def parse_number(input: List[str]) -> Callable[[List[str]], List[Tuple[int, str]]]:\n",
    "    pass # Noot: als dit lukt door bouwblokken te chainen hoef je geen functienotatie te gebruiken;\n",
    "         # parse_number = f(g(...)) is ook prima\n",
    "\n",
    "print(parse_number([*\"42\"]))"
   ]
  },
  {
   "cell_type": "markdown",
   "metadata": {},
   "source": [
    "### Operators\n",
    "Nu kunnen we een parser maken die het plusteken herkent. Let ook hier weer op het type: we willen de plus niet als symbool opleveren, maar als een functie!"
   ]
  },
  {
   "cell_type": "code",
   "execution_count": null,
   "metadata": {
    "collapsed": false
   },
   "outputs": [],
   "source": [
    "def parse_plus(input: List[str]) -> Callable[[List[str]], List[Tuple[Callable[[int,int],int], str]]]:\n",
    "    pass\n",
    "\n",
    "print(parse_plus([\"+\"]))"
   ]
  },
  {
   "cell_type": "markdown",
   "metadata": {},
   "source": [
    "### Applicatie\n",
    "\n",
    "Door de twee hierboven gemaakte parsers te combineren kunnen we een optelling parsen. Parse een getal, negeer whitespace, parse een plusteken, negeer whitespace en parse een tweede getal. Het resultaat is de uitgerekende som."
   ]
  },
  {
   "cell_type": "code",
   "execution_count": null,
   "metadata": {
    "collapsed": false
   },
   "outputs": [],
   "source": [
    "def ignoring_spaces(p: Callable[[str], List[Tuple[A, str]]]) \\\n",
    "                    -> Callable[[str], List[Tuple[A, str]]]:\n",
    "    pass\n",
    "\n",
    "def parse_sum(input: List[str]) -> Callable[[List[str]], List[Tuple[int, str]]]:\n",
    "    pass\n",
    "\n",
    "print(parse_sum([*\"3+4\"]))"
   ]
  },
  {
   "cell_type": "markdown",
   "metadata": {},
   "source": [
    "Doe nu hetzelfde voor aftrekken, vermenigvuldigen, en delen. Abstraheer de `parse_plus` en `parse_sum` functies om voor de andere vier operatoren te werken. \n",
    "\n",
    "**NB:** Bij delen gaan we uit van `int` division, dus $5 / 2 = 2$. Definieer een algemene parser met behulp van `any`."
   ]
  },
  {
   "cell_type": "code",
   "execution_count": null,
   "metadata": {
    "collapsed": false
   },
   "outputs": [],
   "source": [
    "def parse_operator(sym: str, \\\n",
    "                     f: Callable[[int,int],int]) \\\n",
    "                     -> Callable[[List[str]], List[Tuple[Callable[[int,int],int], str]]]:\n",
    "    pass\n",
    "\n",
    "def parse_operator_application(op: Callable[[List[str]], List[Tuple[Callable[[int,int],int], str]]]) \\\n",
    "                                -> Callable[[str], List[Tuple[int, str]]]:\n",
    "    pass\n",
    "\n",
    "# parse_difference, parse_product, parse_division\n",
    "\n",
    "parse_math = None\n",
    "\n",
    "print(parse_math([*\"6/4\"]))"
   ]
  },
  {
   "cell_type": "markdown",
   "metadata": {},
   "source": [
    "### Haakjes\n",
    "Nu gaan we proberen haakjes te parsen. Hiervoor moeten we de expressie tussen haakjes vinden en uitrekenen voordat het resultaat door wordt gegeven naar de grotere berekening. Probeer hier een parser voor te maken, en maak hierbij gebruik van `either` om de vier rekenkundige parsers aan te passen zodat deze ook een haakjes-expressie als argument kunnen gebruiken."
   ]
  },
  {
   "cell_type": "code",
   "execution_count": null,
   "metadata": {
    "collapsed": true
   },
   "outputs": [],
   "source": [
    "# parse_parenthesised\n",
    "\n",
    "print(parse_parenthesised([*\"(1+2)\"]))"
   ]
  },
  {
   "cell_type": "markdown",
   "metadata": {},
   "source": [
    "### Negatieve getallen en putting it all together\n",
    "Tot slot willen we ook negatieve getallen kunnen parsen. Als we dit slim aanpakken kunnen we negatieve haakjesexpressies ook meteen meepakken. Hiervoor hebben we een soort van hierarchie:\n",
    "- Een getal of een haakjesxpressie is een `unsigned_expression`;\n",
    "- Een minteken gevolgd door een `unsigned_expression` is een `signed_expression`;\n",
    "- Een expression is `either` een `unsigned_expression` of een `signed_expression`;\n",
    "- Plus, min, delen en vermenigvuldigen hebben `expression`s als parameters.\n",
    "\n",
    "Maak een `parse_expression` die met complexe voorbeelden om kan gaan. Deze mag de volgorde van operaties negeren (dus $3 + 2 \\times 7$ wordt $5 \\times 7 = 35$ i.p.v. $3 + 14 = 17$), maar voor extra credit kan je hier ook naar kijken."
   ]
  },
  {
   "cell_type": "code",
   "execution_count": null,
   "metadata": {
    "collapsed": true
   },
   "outputs": [],
   "source": [
    "# parse_unsigned_expression, parse_signed_expression, parse_expression\n",
    "\n",
    "# Redefine any parsers using parse_number to use parse_expression\n",
    "\n",
    "print(parse_expression([*\"1 + (6/3) * -(5*2)\"]))"
   ]
  }
 ],
 "metadata": {
  "kernelspec": {
   "display_name": "Python 3",
   "language": "python",
   "name": "python3"
  },
  "language_info": {
   "codemirror_mode": {
    "name": "ipython",
    "version": 3
   },
   "file_extension": ".py",
   "mimetype": "text/x-python",
   "name": "python",
   "nbconvert_exporter": "python",
   "pygments_lexer": "ipython3",
   "version": "3.6.0"
  }
 },
 "nbformat": 4,
 "nbformat_minor": 2
}

